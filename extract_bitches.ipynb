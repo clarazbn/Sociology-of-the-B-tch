{
 "cells": [
  {
   "cell_type": "code",
   "execution_count": 22,
   "metadata": {},
   "outputs": [],
   "source": [
    "import os\n",
    "import pickle\n",
    "import pandas as pd"
   ]
  },
  {
   "cell_type": "code",
   "execution_count": 23,
   "metadata": {},
   "outputs": [],
   "source": [
    "# Directory containing pickle files\n",
    "pickle_dir = '../Project 3/Films'"
   ]
  },
  {
   "cell_type": "code",
   "execution_count": 24,
   "metadata": {},
   "outputs": [],
   "source": [
    "# Initialize an empty list to store data\n",
    "all_data = []"
   ]
  },
  {
   "cell_type": "code",
   "execution_count": 25,
   "metadata": {},
   "outputs": [],
   "source": [
    "# Load data from pickle files\n",
    "for filename in os.listdir(pickle_dir):\n",
    "    if filename.endswith('.pkl'):\n",
    "        with open(os.path.join(pickle_dir, filename), 'rb') as file:\n",
    "            data = pickle.load(file)\n",
    "            all_data.append(data)"
   ]
  },
  {
   "cell_type": "code",
   "execution_count": 26,
   "metadata": {},
   "outputs": [
    {
     "name": "stderr",
     "output_type": "stream",
     "text": [
      "C:\\Users\\clara\\AppData\\Local\\Temp\\ipykernel_16196\\3560449083.py:2: FutureWarning: The behavior of array concatenation with empty entries is deprecated. In a future version, this will no longer exclude empty items when determining the result dtype. To retain the old behavior, exclude the empty entries before the concat operation.\n",
      "  df = pd.concat(all_data)\n"
     ]
    }
   ],
   "source": [
    "# Combine data into a single DataFrame (if applicable)\n",
    "df = pd.concat(all_data)"
   ]
  },
  {
   "cell_type": "code",
   "execution_count": 28,
   "metadata": {},
   "outputs": [],
   "source": [
    "# Filter rows containing specific words (e.g., 'apple' or 'banana')\n",
    "filtered_df = df[df['Contents'].str.contains('bitch|Bitch', case=False)]"
   ]
  },
  {
   "cell_type": "code",
   "execution_count": null,
   "metadata": {},
   "outputs": [
    {
     "name": "stdout",
     "output_type": "stream",
     "text": [
      "     characters                                 Character_dialogue\n",
      "62   MISS PERKY  No ... I believe heinous bitch is the  term us...\n",
      "297        JOEY  You fucking bitch Kat pulls forward and backs ...\n",
      "311        JOEY  Watching the bitch trash my car doesn't  count...\n",
      "399      BIANCA  Can you turn down the Screaming  Menstrual Bit...\n",
      "483      BIANCA  Bogey Lowenstein's party is normal, but  you a...\n",
      "..          ...                                                ...\n",
      "782       BRIAN  And to working things out with this  tough new...\n",
      "65       DANIEL  They are slow rolling us in Lahore  you might ...\n",
      "139         MAX  You sonofabitch, stay the hell away from my si...\n",
      "783        LUCA  You sonofabitch       We are doin' it again, r...\n",
      "885         MAX                                   Ow   Sonofabitch\n",
      "\n",
      "[2500 rows x 2 columns]\n"
     ]
    }
   ],
   "source": [
    "# Print the filtered DataFrame\n",
    "print(filtered_df)"
   ]
  },
  {
   "cell_type": "code",
   "execution_count": null,
   "metadata": {},
   "outputs": [],
   "source": [
    "import pandas as pd"
   ]
  },
  {
   "cell_type": "code",
   "execution_count": null,
   "metadata": {},
   "outputs": [],
   "source": [
    "# Export DataFrame to a CSV file (without index)\n",
    "filtered_df.to_csv('filtered_data.csv', index=False)"
   ]
  },
  {
   "cell_type": "code",
   "execution_count": null,
   "metadata": {},
   "outputs": [],
   "source": []
  }
 ],
 "metadata": {
  "kernelspec": {
   "display_name": "Python 3",
   "language": "python",
   "name": "python3"
  },
  "language_info": {
   "codemirror_mode": {
    "name": "ipython",
    "version": 3
   },
   "file_extension": ".py",
   "mimetype": "text/x-python",
   "name": "python",
   "nbconvert_exporter": "python",
   "pygments_lexer": "ipython3",
   "version": "3.12.3"
  }
 },
 "nbformat": 4,
 "nbformat_minor": 2
}
